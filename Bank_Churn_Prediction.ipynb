{
 "cells": [
  {
   "cell_type": "code",
   "execution_count": 1,
   "id": "573f6a55",
   "metadata": {},
   "outputs": [],
   "source": [
    "import numpy as np\n",
    "import pandas as pd\n",
    "import matplotlib.pyplot as plt\n",
    "import seaborn as sns"
   ]
  },
  {
   "cell_type": "code",
   "execution_count": 4,
   "id": "227377ad",
   "metadata": {},
   "outputs": [
    {
     "data": {
      "text/html": [
       "<div>\n",
       "<style scoped>\n",
       "    .dataframe tbody tr th:only-of-type {\n",
       "        vertical-align: middle;\n",
       "    }\n",
       "\n",
       "    .dataframe tbody tr th {\n",
       "        vertical-align: top;\n",
       "    }\n",
       "\n",
       "    .dataframe thead th {\n",
       "        text-align: right;\n",
       "    }\n",
       "</style>\n",
       "<table border=\"1\" class=\"dataframe\">\n",
       "  <thead>\n",
       "    <tr style=\"text-align: right;\">\n",
       "      <th></th>\n",
       "      <th>RowNumber</th>\n",
       "      <th>CustomerId</th>\n",
       "      <th>Surname</th>\n",
       "      <th>CreditScore</th>\n",
       "      <th>Geography</th>\n",
       "      <th>Gender</th>\n",
       "      <th>Age</th>\n",
       "      <th>Tenure</th>\n",
       "      <th>Balance</th>\n",
       "      <th>NumOfProducts</th>\n",
       "      <th>HasCrCard</th>\n",
       "      <th>IsActiveMember</th>\n",
       "      <th>EstimatedSalary</th>\n",
       "      <th>Exited</th>\n",
       "    </tr>\n",
       "  </thead>\n",
       "  <tbody>\n",
       "    <tr>\n",
       "      <th>0</th>\n",
       "      <td>1</td>\n",
       "      <td>15634602</td>\n",
       "      <td>Hargrave</td>\n",
       "      <td>619</td>\n",
       "      <td>France</td>\n",
       "      <td>Female</td>\n",
       "      <td>42</td>\n",
       "      <td>2</td>\n",
       "      <td>0.00</td>\n",
       "      <td>1</td>\n",
       "      <td>1</td>\n",
       "      <td>1</td>\n",
       "      <td>101348.88</td>\n",
       "      <td>1</td>\n",
       "    </tr>\n",
       "    <tr>\n",
       "      <th>1</th>\n",
       "      <td>2</td>\n",
       "      <td>15647311</td>\n",
       "      <td>Hill</td>\n",
       "      <td>608</td>\n",
       "      <td>Spain</td>\n",
       "      <td>Female</td>\n",
       "      <td>41</td>\n",
       "      <td>1</td>\n",
       "      <td>83807.86</td>\n",
       "      <td>1</td>\n",
       "      <td>0</td>\n",
       "      <td>1</td>\n",
       "      <td>112542.58</td>\n",
       "      <td>0</td>\n",
       "    </tr>\n",
       "    <tr>\n",
       "      <th>2</th>\n",
       "      <td>3</td>\n",
       "      <td>15619304</td>\n",
       "      <td>Onio</td>\n",
       "      <td>502</td>\n",
       "      <td>France</td>\n",
       "      <td>Female</td>\n",
       "      <td>42</td>\n",
       "      <td>8</td>\n",
       "      <td>159660.80</td>\n",
       "      <td>3</td>\n",
       "      <td>1</td>\n",
       "      <td>0</td>\n",
       "      <td>113931.57</td>\n",
       "      <td>1</td>\n",
       "    </tr>\n",
       "    <tr>\n",
       "      <th>3</th>\n",
       "      <td>4</td>\n",
       "      <td>15701354</td>\n",
       "      <td>Boni</td>\n",
       "      <td>699</td>\n",
       "      <td>France</td>\n",
       "      <td>Female</td>\n",
       "      <td>39</td>\n",
       "      <td>1</td>\n",
       "      <td>0.00</td>\n",
       "      <td>2</td>\n",
       "      <td>0</td>\n",
       "      <td>0</td>\n",
       "      <td>93826.63</td>\n",
       "      <td>0</td>\n",
       "    </tr>\n",
       "    <tr>\n",
       "      <th>4</th>\n",
       "      <td>5</td>\n",
       "      <td>15737888</td>\n",
       "      <td>Mitchell</td>\n",
       "      <td>850</td>\n",
       "      <td>Spain</td>\n",
       "      <td>Female</td>\n",
       "      <td>43</td>\n",
       "      <td>2</td>\n",
       "      <td>125510.82</td>\n",
       "      <td>1</td>\n",
       "      <td>1</td>\n",
       "      <td>1</td>\n",
       "      <td>79084.10</td>\n",
       "      <td>0</td>\n",
       "    </tr>\n",
       "  </tbody>\n",
       "</table>\n",
       "</div>"
      ],
      "text/plain": [
       "   RowNumber  CustomerId   Surname  CreditScore Geography  Gender  Age  \\\n",
       "0          1    15634602  Hargrave          619    France  Female   42   \n",
       "1          2    15647311      Hill          608     Spain  Female   41   \n",
       "2          3    15619304      Onio          502    France  Female   42   \n",
       "3          4    15701354      Boni          699    France  Female   39   \n",
       "4          5    15737888  Mitchell          850     Spain  Female   43   \n",
       "\n",
       "   Tenure    Balance  NumOfProducts  HasCrCard  IsActiveMember  \\\n",
       "0       2       0.00              1          1               1   \n",
       "1       1   83807.86              1          0               1   \n",
       "2       8  159660.80              3          1               0   \n",
       "3       1       0.00              2          0               0   \n",
       "4       2  125510.82              1          1               1   \n",
       "\n",
       "   EstimatedSalary  Exited  \n",
       "0        101348.88       1  \n",
       "1        112542.58       0  \n",
       "2        113931.57       1  \n",
       "3         93826.63       0  \n",
       "4         79084.10       0  "
      ]
     },
     "execution_count": 4,
     "metadata": {},
     "output_type": "execute_result"
    }
   ],
   "source": [
    "Bank_Churn = pd.read_csv('C:/Users/IT/Desktop/Circle K Case Study/ACT India D&A GCC_Data Scientist_Case/Bank Customer Historic Data.csv')\n",
    "Bank_Churn.head()"
   ]
  },
  {
   "cell_type": "code",
   "execution_count": 6,
   "id": "efccdd01",
   "metadata": {},
   "outputs": [
    {
     "data": {
      "text/plain": [
       "RowNumber          0\n",
       "CustomerId         0\n",
       "Surname            0\n",
       "CreditScore        0\n",
       "Geography          0\n",
       "Gender             0\n",
       "Age                0\n",
       "Tenure             0\n",
       "Balance            0\n",
       "NumOfProducts      0\n",
       "HasCrCard          0\n",
       "IsActiveMember     0\n",
       "EstimatedSalary    0\n",
       "Exited             0\n",
       "dtype: int64"
      ]
     },
     "execution_count": 6,
     "metadata": {},
     "output_type": "execute_result"
    }
   ],
   "source": [
    "#missing data quick check\n",
    "Bank_Churn.isnull().sum()"
   ]
  },
  {
   "cell_type": "code",
   "execution_count": 7,
   "id": "d583ed3b",
   "metadata": {},
   "outputs": [
    {
     "name": "stdout",
     "output_type": "stream",
     "text": [
      "<class 'pandas.core.frame.DataFrame'>\n",
      "RangeIndex: 10000 entries, 0 to 9999\n",
      "Data columns (total 14 columns):\n",
      " #   Column           Non-Null Count  Dtype  \n",
      "---  ------           --------------  -----  \n",
      " 0   RowNumber        10000 non-null  int64  \n",
      " 1   CustomerId       10000 non-null  int64  \n",
      " 2   Surname          10000 non-null  object \n",
      " 3   CreditScore      10000 non-null  int64  \n",
      " 4   Geography        10000 non-null  object \n",
      " 5   Gender           10000 non-null  object \n",
      " 6   Age              10000 non-null  int64  \n",
      " 7   Tenure           10000 non-null  int64  \n",
      " 8   Balance          10000 non-null  float64\n",
      " 9   NumOfProducts    10000 non-null  int64  \n",
      " 10  HasCrCard        10000 non-null  int64  \n",
      " 11  IsActiveMember   10000 non-null  int64  \n",
      " 12  EstimatedSalary  10000 non-null  float64\n",
      " 13  Exited           10000 non-null  int64  \n",
      "dtypes: float64(2), int64(9), object(3)\n",
      "memory usage: 1.1+ MB\n"
     ]
    }
   ],
   "source": [
    "#Column and data type checks\n",
    "Bank_Churn.info()"
   ]
  },
  {
   "cell_type": "code",
   "execution_count": 62,
   "id": "95996960",
   "metadata": {},
   "outputs": [
    {
     "data": {
      "text/html": [
       "<div>\n",
       "<style scoped>\n",
       "    .dataframe tbody tr th:only-of-type {\n",
       "        vertical-align: middle;\n",
       "    }\n",
       "\n",
       "    .dataframe tbody tr th {\n",
       "        vertical-align: top;\n",
       "    }\n",
       "\n",
       "    .dataframe thead th {\n",
       "        text-align: right;\n",
       "    }\n",
       "</style>\n",
       "<table border=\"1\" class=\"dataframe\">\n",
       "  <thead>\n",
       "    <tr style=\"text-align: right;\">\n",
       "      <th></th>\n",
       "      <th>Gender</th>\n",
       "      <th>Exited</th>\n",
       "      <th>counts</th>\n",
       "    </tr>\n",
       "  </thead>\n",
       "  <tbody>\n",
       "    <tr>\n",
       "      <th>0</th>\n",
       "      <td>Female</td>\n",
       "      <td>0</td>\n",
       "      <td>3404</td>\n",
       "    </tr>\n",
       "    <tr>\n",
       "      <th>1</th>\n",
       "      <td>Female</td>\n",
       "      <td>1</td>\n",
       "      <td>1139</td>\n",
       "    </tr>\n",
       "    <tr>\n",
       "      <th>2</th>\n",
       "      <td>Male</td>\n",
       "      <td>0</td>\n",
       "      <td>4559</td>\n",
       "    </tr>\n",
       "    <tr>\n",
       "      <th>3</th>\n",
       "      <td>Male</td>\n",
       "      <td>1</td>\n",
       "      <td>898</td>\n",
       "    </tr>\n",
       "  </tbody>\n",
       "</table>\n",
       "</div>"
      ],
      "text/plain": [
       "   Gender  Exited  counts\n",
       "0  Female       0    3404\n",
       "1  Female       1    1139\n",
       "2    Male       0    4559\n",
       "3    Male       1     898"
      ]
     },
     "execution_count": 62,
     "metadata": {},
     "output_type": "execute_result"
    }
   ],
   "source": [
    "#non-numerical data check\n",
    "GenAna = Bank_Churn.groupby(['Gender', 'Exited']).size().reset_index(name='counts')\n",
    "GenAna"
   ]
  },
  {
   "cell_type": "code",
   "execution_count": 56,
   "id": "047498b7",
   "metadata": {},
   "outputs": [
    {
     "data": {
      "text/html": [
       "<div>\n",
       "<style scoped>\n",
       "    .dataframe tbody tr th:only-of-type {\n",
       "        vertical-align: middle;\n",
       "    }\n",
       "\n",
       "    .dataframe tbody tr th {\n",
       "        vertical-align: top;\n",
       "    }\n",
       "\n",
       "    .dataframe thead th {\n",
       "        text-align: right;\n",
       "    }\n",
       "</style>\n",
       "<table border=\"1\" class=\"dataframe\">\n",
       "  <thead>\n",
       "    <tr style=\"text-align: right;\">\n",
       "      <th></th>\n",
       "      <th>Geography</th>\n",
       "      <th>Gender</th>\n",
       "    </tr>\n",
       "  </thead>\n",
       "  <tbody>\n",
       "    <tr>\n",
       "      <th>count</th>\n",
       "      <td>10000</td>\n",
       "      <td>10000</td>\n",
       "    </tr>\n",
       "    <tr>\n",
       "      <th>unique</th>\n",
       "      <td>3</td>\n",
       "      <td>2</td>\n",
       "    </tr>\n",
       "    <tr>\n",
       "      <th>top</th>\n",
       "      <td>France</td>\n",
       "      <td>Male</td>\n",
       "    </tr>\n",
       "    <tr>\n",
       "      <th>freq</th>\n",
       "      <td>5014</td>\n",
       "      <td>5457</td>\n",
       "    </tr>\n",
       "  </tbody>\n",
       "</table>\n",
       "</div>"
      ],
      "text/plain": [
       "       Geography Gender\n",
       "count      10000  10000\n",
       "unique         3      2\n",
       "top       France   Male\n",
       "freq        5014   5457"
      ]
     },
     "execution_count": 56,
     "metadata": {},
     "output_type": "execute_result"
    }
   ],
   "source": [
    "#non-numerical data check\n",
    "Bank_Churn[['Geography','Gender']].describe()"
   ]
  },
  {
   "cell_type": "code",
   "execution_count": 40,
   "id": "885dc0fb",
   "metadata": {},
   "outputs": [
    {
     "data": {
      "image/png": "[encoded data removed]",
      "text/plain": [
       "<Figure size 720x720 with 1 Axes>"
      ]
     },
     "metadata": {},
     "output_type": "display_data"
    }
   ],
   "source": [
    "#Create a list that contains the number of exited customer \n",
    "ExitedList = [Bank_Churn.Exited[Bank_Churn['Exited']==1].count(), Bank_Churn.Exited[Bank_Churn['Exited']==0].count()]\n",
    "\n",
    "#set figure size and title\n",
    "colors = [\"grey\",\"yellow\"]\n",
    "plt.subplots(figsize=(10, 10))\n",
    "plt.title('Proportion/Percentage of Customer Churn in Bank_Churn Dataset', size = 10)\n",
    "\n",
    "#display the proportion of Customer Churn\n",
    "plt.pie(ExitedList,labels = ['Exited', 'Not Exited'], autopct='%.2f%%',colors=colors, explode = (0 , 0.05))\n",
    "plt.legend(labels = ['Exited', 'Not Exited'], loc = \"upper right\")\n",
    "plt.show()"
   ]
  },
  {
   "cell_type": "code",
   "execution_count": 14,
   "id": "783cb09a",
   "metadata": {},
   "outputs": [
    {
     "name": "stderr",
     "output_type": "stream",
     "text": [
      "C:\\Users\\IT\\anaconda3\\lib\\site-packages\\seaborn\\_decorators.py:36: FutureWarning: Pass the following variable as a keyword arg: x. From version 0.12, the only valid positional argument will be `data`, and passing other arguments without an explicit keyword will result in an error or misinterpretation.\n",
      "  warnings.warn(\n",
      "C:\\Users\\IT\\anaconda3\\lib\\site-packages\\seaborn\\_decorators.py:36: FutureWarning: Pass the following variable as a keyword arg: x. From version 0.12, the only valid positional argument will be `data`, and passing other arguments without an explicit keyword will result in an error or misinterpretation.\n",
      "  warnings.warn(\n",
      "C:\\Users\\IT\\anaconda3\\lib\\site-packages\\seaborn\\_decorators.py:36: FutureWarning: Pass the following variable as a keyword arg: x. From version 0.12, the only valid positional argument will be `data`, and passing other arguments without an explicit keyword will result in an error or misinterpretation.\n",
      "  warnings.warn(\n",
      "C:\\Users\\IT\\anaconda3\\lib\\site-packages\\seaborn\\_decorators.py:36: FutureWarning: Pass the following variable as a keyword arg: x. From version 0.12, the only valid positional argument will be `data`, and passing other arguments without an explicit keyword will result in an error or misinterpretation.\n",
      "  warnings.warn(\n",
      "C:\\Users\\IT\\anaconda3\\lib\\site-packages\\seaborn\\_decorators.py:36: FutureWarning: Pass the following variable as a keyword arg: x. From version 0.12, the only valid positional argument will be `data`, and passing other arguments without an explicit keyword will result in an error or misinterpretation.\n",
      "  warnings.warn(\n",
      "C:\\Users\\IT\\anaconda3\\lib\\site-packages\\seaborn\\_decorators.py:36: FutureWarning: Pass the following variable as a keyword arg: x. From version 0.12, the only valid positional argument will be `data`, and passing other arguments without an explicit keyword will result in an error or misinterpretation.\n",
      "  warnings.warn(\n"
     ]
    },
    {
     "data": {
      "text/plain": [
       "<AxesSubplot:xlabel='IsActiveMember', ylabel='count'>"
      ]
     },
     "execution_count": 14,
     "metadata": {},
     "output_type": "execute_result"
    },
    {
     "data": {
      "image/png": "[encoded data removed]",
      "text/plain": [
       "<Figure size 1080x1080 with 6 Axes>"
      ]
     },
     "metadata": {
      "needs_background": "light"
     },
     "output_type": "display_data"
    }
   ],
   "source": [
    "#preparing the figure size \n",
    "fig, axarr = plt.subplots(2, 3, figsize=(15, 15))\n",
    "\n",
    "#visulazie the count of Exited and NotExited for each feature\n",
    "\n",
    "sns.countplot('Geography', hue = 'Exited',data = Bank_Churn, ax = axarr[0][0])\n",
    "sns.countplot('Gender', hue = 'Exited',data = Bank_Churn, ax = axarr[0][1])\n",
    "sns.countplot('Tenure', hue = 'Exited',data = Bank_Churn, ax = axarr[0][2])\n",
    "sns.countplot('NumOfProducts', hue = 'Exited',data = Bank_Churn, ax = axarr[1][0])\n",
    "sns.countplot('HasCrCard', hue = 'Exited',data = Bank_Churn, ax = axarr[1][1])\n",
    "sns.countplot('IsActiveMember', hue = 'Exited',data = Bank_Churn, ax = axarr[1][2])"
   ]
  },
  {
   "cell_type": "code",
   "execution_count": 19,
   "id": "c3754518",
   "metadata": {},
   "outputs": [
    {
     "name": "stderr",
     "output_type": "stream",
     "text": [
      "C:\\Users\\IT\\anaconda3\\lib\\site-packages\\seaborn\\axisgrid.py:156: UserWarning: You have mixed positional and keyword arguments, some input may be discarded.\n",
      "  figlegend = self._figure.legend(handles, labels, **kwargs)\n"
     ]
    },
    {
     "data": {
      "text/plain": [
       "<seaborn.axisgrid.FacetGrid at 0x13605997a30>"
      ]
     },
     "execution_count": 19,
     "metadata": {},
     "output_type": "execute_result"
    },
    {
     "data": {
      "image/png": "[encoded data removed]",
      "text/plain": [
       "<Figure size 1147.38x216 with 1 Axes>"
      ]
     },
     "metadata": {
      "needs_background": "light"
     },
     "output_type": "display_data"
    }
   ],
   "source": [
    "#visulaization relation between Age and Exited\n",
    "FacetGrid = sns.FacetGrid(Bank_Churn, hue='Exited', aspect=5)\n",
    "FacetGrid.map(sns.kdeplot, 'Age', shade=True )\n",
    "FacetGrid.set(xlim=(16, Bank_Churn['Age'].max()))\n",
    "FacetGrid.add_legend(labels = ['Stay', \"Exited\"])"
   ]
  },
  {
   "cell_type": "code",
   "execution_count": 20,
   "id": "72108b3c",
   "metadata": {},
   "outputs": [
    {
     "data": {
      "image/png": "[encoded data removed]",
      "text/plain": [
       "<Figure size 432x288 with 1 Axes>"
      ]
     },
     "metadata": {
      "needs_background": "light"
     },
     "output_type": "display_data"
    }
   ],
   "source": [
    "#Vislization of the count of each value in Gender feature\n",
    "\n",
    "sns.countplot(y=Bank_Churn['Gender'], data=Bank_Churn, order = Bank_Churn['Gender'].value_counts().index)\n",
    "plt.show()"
   ]
  },
  {
   "cell_type": "code",
   "execution_count": 22,
   "id": "f7bc4bfe",
   "metadata": {},
   "outputs": [
    {
     "data": {
      "text/plain": [
       "<AxesSubplot:>"
      ]
     },
     "execution_count": 22,
     "metadata": {},
     "output_type": "execute_result"
    },
    {
     "data": {
      "image/png": "[encoded data removed]",
      "text/plain": [
       "<Figure size 504x504 with 2 Axes>"
      ]
     },
     "metadata": {
      "needs_background": "light"
     },
     "output_type": "display_data"
    }
   ],
   "source": [
    "plt.figure(figsize=(7,7))\n",
    "sns.heatmap(Bank_Churn.corr(), cmap=\"YlGnBu\")"
   ]
  },
  {
   "cell_type": "code",
   "execution_count": 23,
   "id": "3bd65ab1",
   "metadata": {},
   "outputs": [],
   "source": [
    "#Data Cleaning\n",
    "#Drop the Surname,CustmerId,HasCrCard features from the data set as it will not considert in prediction \n",
    "Bank_Churn.drop(\"CustomerId\", axis=1, inplace=True)\n",
    "Bank_Churn.drop(\"Surname\", axis=1, inplace=True)\n",
    "Bank_Churn.drop(\"HasCrCard\", axis=1, inplace=True)"
   ]
  },
  {
   "cell_type": "code",
   "execution_count": 27,
   "id": "5955104a",
   "metadata": {},
   "outputs": [
    {
     "data": {
      "text/html": [
       "<div>\n",
       "<style scoped>\n",
       "    .dataframe tbody tr th:only-of-type {\n",
       "        vertical-align: middle;\n",
       "    }\n",
       "\n",
       "    .dataframe tbody tr th {\n",
       "        vertical-align: top;\n",
       "    }\n",
       "\n",
       "    .dataframe thead th {\n",
       "        text-align: right;\n",
       "    }\n",
       "</style>\n",
       "<table border=\"1\" class=\"dataframe\">\n",
       "  <thead>\n",
       "    <tr style=\"text-align: right;\">\n",
       "      <th></th>\n",
       "      <th>RowNumber</th>\n",
       "      <th>CreditScore</th>\n",
       "      <th>Age</th>\n",
       "      <th>Tenure</th>\n",
       "      <th>Balance</th>\n",
       "      <th>NumOfProducts</th>\n",
       "      <th>IsActiveMember</th>\n",
       "      <th>EstimatedSalary</th>\n",
       "      <th>Exited</th>\n",
       "      <th>Gender_Female</th>\n",
       "      <th>Gender_Male</th>\n",
       "      <th>Geography_France</th>\n",
       "      <th>Geography_Germany</th>\n",
       "      <th>Geography_Spain</th>\n",
       "    </tr>\n",
       "  </thead>\n",
       "  <tbody>\n",
       "    <tr>\n",
       "      <th>0</th>\n",
       "      <td>1</td>\n",
       "      <td>619</td>\n",
       "      <td>42</td>\n",
       "      <td>2</td>\n",
       "      <td>0.00</td>\n",
       "      <td>1</td>\n",
       "      <td>1</td>\n",
       "      <td>101348.88</td>\n",
       "      <td>1</td>\n",
       "      <td>1</td>\n",
       "      <td>0</td>\n",
       "      <td>1</td>\n",
       "      <td>0</td>\n",
       "      <td>0</td>\n",
       "    </tr>\n",
       "    <tr>\n",
       "      <th>1</th>\n",
       "      <td>2</td>\n",
       "      <td>608</td>\n",
       "      <td>41</td>\n",
       "      <td>1</td>\n",
       "      <td>83807.86</td>\n",
       "      <td>1</td>\n",
       "      <td>1</td>\n",
       "      <td>112542.58</td>\n",
       "      <td>0</td>\n",
       "      <td>1</td>\n",
       "      <td>0</td>\n",
       "      <td>0</td>\n",
       "      <td>0</td>\n",
       "      <td>1</td>\n",
       "    </tr>\n",
       "    <tr>\n",
       "      <th>2</th>\n",
       "      <td>3</td>\n",
       "      <td>502</td>\n",
       "      <td>42</td>\n",
       "      <td>8</td>\n",
       "      <td>159660.80</td>\n",
       "      <td>3</td>\n",
       "      <td>0</td>\n",
       "      <td>113931.57</td>\n",
       "      <td>1</td>\n",
       "      <td>1</td>\n",
       "      <td>0</td>\n",
       "      <td>1</td>\n",
       "      <td>0</td>\n",
       "      <td>0</td>\n",
       "    </tr>\n",
       "    <tr>\n",
       "      <th>3</th>\n",
       "      <td>4</td>\n",
       "      <td>699</td>\n",
       "      <td>39</td>\n",
       "      <td>1</td>\n",
       "      <td>0.00</td>\n",
       "      <td>2</td>\n",
       "      <td>0</td>\n",
       "      <td>93826.63</td>\n",
       "      <td>0</td>\n",
       "      <td>1</td>\n",
       "      <td>0</td>\n",
       "      <td>1</td>\n",
       "      <td>0</td>\n",
       "      <td>0</td>\n",
       "    </tr>\n",
       "    <tr>\n",
       "      <th>4</th>\n",
       "      <td>5</td>\n",
       "      <td>850</td>\n",
       "      <td>43</td>\n",
       "      <td>2</td>\n",
       "      <td>125510.82</td>\n",
       "      <td>1</td>\n",
       "      <td>1</td>\n",
       "      <td>79084.10</td>\n",
       "      <td>0</td>\n",
       "      <td>1</td>\n",
       "      <td>0</td>\n",
       "      <td>0</td>\n",
       "      <td>0</td>\n",
       "      <td>1</td>\n",
       "    </tr>\n",
       "  </tbody>\n",
       "</table>\n",
       "</div>"
      ],
      "text/plain": [
       "   RowNumber  CreditScore  Age  Tenure    Balance  NumOfProducts  \\\n",
       "0          1          619   42       2       0.00              1   \n",
       "1          2          608   41       1   83807.86              1   \n",
       "2          3          502   42       8  159660.80              3   \n",
       "3          4          699   39       1       0.00              2   \n",
       "4          5          850   43       2  125510.82              1   \n",
       "\n",
       "   IsActiveMember  EstimatedSalary  Exited  Gender_Female  Gender_Male  \\\n",
       "0               1        101348.88       1              1            0   \n",
       "1               1        112542.58       0              1            0   \n",
       "2               0        113931.57       1              1            0   \n",
       "3               0         93826.63       0              1            0   \n",
       "4               1         79084.10       0              1            0   \n",
       "\n",
       "   Geography_France  Geography_Germany  Geography_Spain  \n",
       "0                 1                  0                0  \n",
       "1                 0                  0                1  \n",
       "2                 1                  0                0  \n",
       "3                 1                  0                0  \n",
       "4                 0                  0                1  "
      ]
     },
     "execution_count": 27,
     "metadata": {},
     "output_type": "execute_result"
    }
   ],
   "source": [
    "#apply one hot encodeing to  Gender and Geography\n",
    "clean_data = pd.get_dummies(data = Bank_Churn ,columns=['Gender', 'Geography'])\n",
    "clean_data.head()"
   ]
  },
  {
   "cell_type": "code",
   "execution_count": 28,
   "id": "c6585ad4",
   "metadata": {},
   "outputs": [
    {
     "data": {
      "text/html": [
       "<div>\n",
       "<style scoped>\n",
       "    .dataframe tbody tr th:only-of-type {\n",
       "        vertical-align: middle;\n",
       "    }\n",
       "\n",
       "    .dataframe tbody tr th {\n",
       "        vertical-align: top;\n",
       "    }\n",
       "\n",
       "    .dataframe thead th {\n",
       "        text-align: right;\n",
       "    }\n",
       "</style>\n",
       "<table border=\"1\" class=\"dataframe\">\n",
       "  <thead>\n",
       "    <tr style=\"text-align: right;\">\n",
       "      <th></th>\n",
       "      <th>RowNumber</th>\n",
       "      <th>CreditScore</th>\n",
       "      <th>Age</th>\n",
       "      <th>Tenure</th>\n",
       "      <th>Balance</th>\n",
       "      <th>NumOfProducts</th>\n",
       "      <th>IsActiveMember</th>\n",
       "      <th>EstimatedSalary</th>\n",
       "      <th>Exited</th>\n",
       "      <th>Female</th>\n",
       "      <th>Male</th>\n",
       "      <th>France</th>\n",
       "      <th>Germany</th>\n",
       "      <th>Spain</th>\n",
       "    </tr>\n",
       "  </thead>\n",
       "  <tbody>\n",
       "    <tr>\n",
       "      <th>0</th>\n",
       "      <td>1</td>\n",
       "      <td>619</td>\n",
       "      <td>42</td>\n",
       "      <td>2</td>\n",
       "      <td>0.00</td>\n",
       "      <td>1</td>\n",
       "      <td>1</td>\n",
       "      <td>101348.88</td>\n",
       "      <td>1</td>\n",
       "      <td>1</td>\n",
       "      <td>0</td>\n",
       "      <td>1</td>\n",
       "      <td>0</td>\n",
       "      <td>0</td>\n",
       "    </tr>\n",
       "    <tr>\n",
       "      <th>1</th>\n",
       "      <td>2</td>\n",
       "      <td>608</td>\n",
       "      <td>41</td>\n",
       "      <td>1</td>\n",
       "      <td>83807.86</td>\n",
       "      <td>1</td>\n",
       "      <td>1</td>\n",
       "      <td>112542.58</td>\n",
       "      <td>0</td>\n",
       "      <td>1</td>\n",
       "      <td>0</td>\n",
       "      <td>0</td>\n",
       "      <td>0</td>\n",
       "      <td>1</td>\n",
       "    </tr>\n",
       "    <tr>\n",
       "      <th>2</th>\n",
       "      <td>3</td>\n",
       "      <td>502</td>\n",
       "      <td>42</td>\n",
       "      <td>8</td>\n",
       "      <td>159660.80</td>\n",
       "      <td>3</td>\n",
       "      <td>0</td>\n",
       "      <td>113931.57</td>\n",
       "      <td>1</td>\n",
       "      <td>1</td>\n",
       "      <td>0</td>\n",
       "      <td>1</td>\n",
       "      <td>0</td>\n",
       "      <td>0</td>\n",
       "    </tr>\n",
       "    <tr>\n",
       "      <th>3</th>\n",
       "      <td>4</td>\n",
       "      <td>699</td>\n",
       "      <td>39</td>\n",
       "      <td>1</td>\n",
       "      <td>0.00</td>\n",
       "      <td>2</td>\n",
       "      <td>0</td>\n",
       "      <td>93826.63</td>\n",
       "      <td>0</td>\n",
       "      <td>1</td>\n",
       "      <td>0</td>\n",
       "      <td>1</td>\n",
       "      <td>0</td>\n",
       "      <td>0</td>\n",
       "    </tr>\n",
       "    <tr>\n",
       "      <th>4</th>\n",
       "      <td>5</td>\n",
       "      <td>850</td>\n",
       "      <td>43</td>\n",
       "      <td>2</td>\n",
       "      <td>125510.82</td>\n",
       "      <td>1</td>\n",
       "      <td>1</td>\n",
       "      <td>79084.10</td>\n",
       "      <td>0</td>\n",
       "      <td>1</td>\n",
       "      <td>0</td>\n",
       "      <td>0</td>\n",
       "      <td>0</td>\n",
       "      <td>1</td>\n",
       "    </tr>\n",
       "  </tbody>\n",
       "</table>\n",
       "</div>"
      ],
      "text/plain": [
       "   RowNumber  CreditScore  Age  Tenure    Balance  NumOfProducts  \\\n",
       "0          1          619   42       2       0.00              1   \n",
       "1          2          608   41       1   83807.86              1   \n",
       "2          3          502   42       8  159660.80              3   \n",
       "3          4          699   39       1       0.00              2   \n",
       "4          5          850   43       2  125510.82              1   \n",
       "\n",
       "   IsActiveMember  EstimatedSalary  Exited  Female  Male  France  Germany  \\\n",
       "0               1        101348.88       1       1     0       1        0   \n",
       "1               1        112542.58       0       1     0       0        0   \n",
       "2               0        113931.57       1       1     0       1        0   \n",
       "3               0         93826.63       0       1     0       1        0   \n",
       "4               1         79084.10       0       1     0       0        0   \n",
       "\n",
       "   Spain  \n",
       "0      0  \n",
       "1      1  \n",
       "2      0  \n",
       "3      0  \n",
       "4      1  "
      ]
     },
     "execution_count": 28,
     "metadata": {},
     "output_type": "execute_result"
    }
   ],
   "source": [
    "#rename the coulmuns\n",
    "data.rename(columns={'Gender_Female':'Female',\n",
    "                     'Gender_Male':'Male',\n",
    "                     'Geography_France': 'France',\n",
    "                     'Geography_Germany' : 'Germany',\n",
    "                     'Geography_Spain':'Spain'}, inplace = True)\n",
    "data.head()"
   ]
  },
  {
   "cell_type": "code",
   "execution_count": null,
   "id": "5929e172",
   "metadata": {},
   "outputs": [],
   "source": []
  },
  {
   "cell_type": "code",
   "execution_count": 30,
   "id": "35d72109",
   "metadata": {},
   "outputs": [],
   "source": [
    "#Data prepration for training and testing\n",
    "Input_features = clean_data.drop(['Exited'], axis = 1)\n",
    "predict = data['Exited']"
   ]
  },
  {
   "cell_type": "code",
   "execution_count": 31,
   "id": "a45aa43c",
   "metadata": {},
   "outputs": [
    {
     "name": "stdout",
     "output_type": "stream",
     "text": [
      "Training set has 8000 samples.\n",
      "Testing set has 2000 samples.\n"
     ]
    }
   ],
   "source": [
    "from sklearn.model_selection import train_test_split \n",
    "\n",
    "#split tha data\n",
    "X_train, X_test, y_train, y_test = train_test_split(Input_features, predict, test_size = 0.2,random_state = 200)\n",
    "# Show the results of the split\n",
    "print(\"Training set has {} samples.\".format(X_train.shape[0]))\n",
    "print(\"Testing set has {} samples.\".format(X_test.shape[0]))"
   ]
  },
  {
   "cell_type": "code",
   "execution_count": 32,
   "id": "f690a1b3",
   "metadata": {},
   "outputs": [],
   "source": [
    "#improting necassery libraries\n",
    "from sklearn.linear_model import LogisticRegression\n",
    "from sklearn.ensemble import RandomForestClassifier\n",
    "from sklearn.ensemble import GradientBoostingClassifier\n",
    "from sklearn.tree import DecisionTreeClassifier as DecisionTree\n",
    "from sklearn.metrics import roc_auc_score,confusion_matrix,f1_score,accuracy_score"
   ]
  },
  {
   "cell_type": "code",
   "execution_count": 33,
   "id": "e0fdb465",
   "metadata": {},
   "outputs": [
    {
     "name": "stdout",
     "output_type": "stream",
     "text": [
      "Accuracy Score for testing set :0.7855\n",
      "Accuracy Score for training set :0.790125\n",
      "\n",
      "F1 score for testing set :0.13682092555331993\n",
      "F1 score for training set:0.09194159004867497\n",
      "\n",
      "ROC AUC Score for testing set: 0.6708835129103385\n",
      "ROC AUC Score for train set: 0.6776832006531945\n"
     ]
    },
    {
     "data": {
      "text/plain": [
       "array([[1537,   36],\n",
       "       [ 393,   34]], dtype=int64)"
      ]
     },
     "execution_count": 33,
     "metadata": {},
     "output_type": "execute_result"
    }
   ],
   "source": [
    "# using Logistic Regresiion algorithm to build first model\n",
    "logreg_model = LogisticRegression(solver='liblinear')\n",
    "fit = logreg_model.fit(X_train, y_train)\n",
    "fit_prediction_train = fit.predict(X_train)\n",
    "fit_prediction_test = fit.predict(X_test)\n",
    "\n",
    "#validation of  Logistic Regresiion\n",
    "print('Accuracy Score for testing set :' +'{}'.format(accuracy_score(fit_prediction_test, y_test)))\n",
    "print('Accuracy Score for training set :' +'{}'.format(accuracy_score(fit_prediction_train, y_train)))\n",
    "\n",
    "print('\\nF1 score for testing set :'+'{}'.format(f1_score(fit_prediction_test, y_test)))\n",
    "print('F1 score for training set:'+'{}'.format(f1_score(fit_prediction_train, y_train)))\n",
    "\n",
    "\n",
    "print('\\nROC AUC Score for testing set: ' +'{}'.format(roc_auc_score(y_test, fit.predict_proba(X_test)[::,1])))\n",
    "print('ROC AUC Score for train set: ' +'{}'.format(roc_auc_score(y_train, fit.predict_proba(X_train)[::,1])))\n",
    "\n",
    "confusion_matrix(y_test, fit.predict(X_test))"
   ]
  },
  {
   "cell_type": "code",
   "execution_count": 34,
   "id": "7d39cfb8",
   "metadata": {},
   "outputs": [
    {
     "name": "stdout",
     "output_type": "stream",
     "text": [
      "Accuracy Score for testing set :0.8485\n",
      "Accuracy Score for training set :1.0\n",
      "\n",
      "F1 score for testing set :0.547085201793722\n",
      "F1 score for training set:1.0\n",
      "\n",
      "ROC AUC Score for testing set: 0.6708835129103385\n",
      "ROC AUC Score for train set: 0.6776832006531945\n"
     ]
    },
    {
     "data": {
      "text/plain": [
       "array([[1537,   36],\n",
       "       [ 393,   34]], dtype=int64)"
      ]
     },
     "execution_count": 34,
     "metadata": {},
     "output_type": "execute_result"
    }
   ],
   "source": [
    "# using RandomForestClassifier algorithm to build second model\n",
    "rf = RandomForestClassifier(n_estimators=100)\n",
    "rf_fit = rf.fit(X_train, y_train)\n",
    "rf_prediction_train_ = rf_fit.predict(X_train)\n",
    "rf_prediction_test = rf_fit.predict(X_test)\n",
    "\n",
    "#validation of RandomForestClassifier\n",
    "print('Accuracy Score for testing set :' +'{}'.format(accuracy_score(rf_prediction_test, y_test)))\n",
    "print('Accuracy Score for training set :' +'{}'.format(accuracy_score(rf_prediction_train_, y_train)))\n",
    "\n",
    "print('\\nF1 score for testing set :'+'{}'.format(f1_score(rf_prediction_test, y_test)))\n",
    "print('F1 score for training set:'+'{}'.format(f1_score(rf_prediction_train_, y_train)))\n",
    "\n",
    "\n",
    "print('\\nROC AUC Score for testing set: ' +'{}'.format(roc_auc_score(y_test, fit.predict_proba(X_test)[::,1])))\n",
    "print('ROC AUC Score for train set: ' +'{}'.format(roc_auc_score(y_train, fit.predict_proba(X_train)[::,1])))\n",
    "\n",
    "confusion_matrix(y_test, fit.predict(X_test))"
   ]
  },
  {
   "cell_type": "code",
   "execution_count": 35,
   "id": "eb35fc03",
   "metadata": {},
   "outputs": [
    {
     "name": "stdout",
     "output_type": "stream",
     "text": [
      "Accuracy Score for testing set :0.851\n",
      "Accuracy Score for training set :0.879625\n",
      "\n",
      "F1 score for testing set :0.556547619047619\n",
      "F1 score for training set:0.6345351043643265\n",
      "\n",
      "ROC AUC Score for testing set: 0.6708835129103385\n",
      "ROC AUC Score for train set: 0.6776832006531945\n"
     ]
    },
    {
     "data": {
      "text/plain": [
       "array([[1537,   36],\n",
       "       [ 393,   34]], dtype=int64)"
      ]
     },
     "execution_count": 35,
     "metadata": {},
     "output_type": "execute_result"
    }
   ],
   "source": [
    "# using GradientBoostingClassifier algorithm to build second model\n",
    "\n",
    "gb = GradientBoostingClassifier(n_estimators=100)\n",
    "gb_fit = gb.fit(X_train, y_train)\n",
    "gb_prediction_train_ = gb_fit.predict(X_train)\n",
    "gb_prediction_test = gb_fit.predict(X_test)\n",
    "\n",
    "#validation of GradientBoostingClassifier\n",
    "print('Accuracy Score for testing set :' +'{}'.format(accuracy_score(gb_prediction_test, y_test)))\n",
    "print('Accuracy Score for training set :' +'{}'.format(accuracy_score(gb_prediction_train_, y_train)))\n",
    "\n",
    "print('\\nF1 score for testing set :'+'{}'.format(f1_score(gb_prediction_test, y_test)))\n",
    "print('F1 score for training set:'+'{}'.format(f1_score(gb_prediction_train_, y_train)))\n",
    "\n",
    "\n",
    "print('\\nROC AUC Score for testing set: ' +'{}'.format(roc_auc_score(y_test, fit.predict_proba(X_test)[::,1])))\n",
    "print('ROC AUC Score for train set: ' +'{}'.format(roc_auc_score(y_train, fit.predict_proba(X_train)[::,1])))\n",
    "\n",
    "confusion_matrix(y_test, fit.predict(X_test))"
   ]
  },
  {
   "cell_type": "code",
   "execution_count": 43,
   "id": "1f193c3e",
   "metadata": {},
   "outputs": [
    {
     "name": "stdout",
     "output_type": "stream",
     "text": [
      "Percentage of NotExited:  2037\n",
      "Percentage of Exited:  2037\n",
      "Total number of  resampled data:  4074\n"
     ]
    }
   ],
   "source": [
    "#Resampling data and training the model\n",
    "# store No. of Exited and indices\n",
    "Exited_records = data['Exited'].sum()\n",
    "Exited_indices = np.array(data[data.Exited == 1].index)\n",
    "\n",
    "# Picking the indices of the normal Exited\n",
    "normal_indices = data[data.Exited == 0].index\n",
    "\n",
    "# Out of the indices we picked, randomly select number of normal records = number of Exited records \n",
    "random_normal_indices = np.random.choice(normal_indices, Exited_records, replace = False)\n",
    "random_normal_indices = np.array(random_normal_indices)\n",
    "\n",
    "# Merge the 2 indices\n",
    "under_sample_indices = np.concatenate([Exited_indices,random_normal_indices])\n",
    "\n",
    "# Copy under sample dataset  \n",
    "under_sample_data = data.iloc[under_sample_indices,:]\n",
    "\n",
    "# Split data into features and target labels \n",
    "features_undersample = under_sample_data.drop(['Exited'], axis = 1)\n",
    "target_undersample = under_sample_data['Exited']\n",
    "\n",
    "# Show ratio\n",
    "print(\"Percentage of NotExited: \", under_sample_data.Exited[under_sample_data['Exited'] == 0].count())\n",
    "print(\"Percentage of Exited: \", under_sample_data.Exited[under_sample_data['Exited'] == 1].count())\n",
    "print(\"Total number of  resampled data: \", under_sample_data['Exited'].count())"
   ]
  },
  {
   "cell_type": "code",
   "execution_count": 44,
   "id": "ca8bee77",
   "metadata": {},
   "outputs": [
    {
     "data": {
      "text/plain": [
       "<matplotlib.legend.Legend at 0x13608dc9ca0>"
      ]
     },
     "execution_count": 44,
     "metadata": {},
     "output_type": "execute_result"
    },
    {
     "data": {
      "image/png": "[encoded data removed]",
      "text/plain": [
       "<Figure size 504x504 with 1 Axes>"
      ]
     },
     "metadata": {
      "needs_background": "light"
     },
     "output_type": "display_data"
    }
   ],
   "source": [
    "under_sample_Exited_Real = [under_sample_data.Exited[under_sample_data['Exited'] == 0].count(), Exited_records]\n",
    "\n",
    "# Plot the proportion \n",
    "plt.subplots(figsize = (7, 7))\n",
    "plt.title(\"Proportion of Exited after resampling data\", size = 20)\n",
    "ax = sns.countplot(x = under_sample_data['Exited'], data= under_sample_data)\n",
    "ax.legend(labels=['NotExited', 'Exited'], loc = 'upper left')"
   ]
  },
  {
   "cell_type": "code",
   "execution_count": 46,
   "id": "283c9d8c",
   "metadata": {},
   "outputs": [
    {
     "name": "stdout",
     "output_type": "stream",
     "text": [
      "Training set has 3666 samples.\n",
      "Testing set has 408 samples.\n"
     ]
    }
   ],
   "source": [
    "# Split the 'features_undersample' and 'target_anderSample' data into training and testing sets\n",
    "X_train_sampled, X_test_sampled, y_train_sampled, y_test_sampled = train_test_split(features_undersample,\n",
    "                                                                                    target_undersample,\n",
    "                                                                                    test_size = 0.10,\n",
    "                                                                                    random_state = 25)\n",
    "# Show the results of the split\n",
    "print(\"Training set has {} samples.\".format(X_train_sampled.shape[0]))\n",
    "print(\"Testing set has {} samples.\".format(X_test_sampled.shape[0]))"
   ]
  },
  {
   "cell_type": "code",
   "execution_count": 47,
   "id": "ce4ccff7",
   "metadata": {},
   "outputs": [
    {
     "name": "stdout",
     "output_type": "stream",
     "text": [
      "Accuracy Score for testing set :0.6666666666666666\n",
      "Accuracy Score for training set :0.665848336061102\n",
      "\n",
      "F1 score for testing set :0.6582914572864321\n",
      "F1 score for training set:0.6700781039590628\n",
      "\n",
      "ROC AUC Score for testing set: 0.712360415864459\n",
      "ROC AUC Score for train set: 0.707489229349743\n"
     ]
    },
    {
     "data": {
      "text/plain": [
       "array([[141,  71],\n",
       "       [ 65, 131]], dtype=int64)"
      ]
     },
     "execution_count": 47,
     "metadata": {},
     "output_type": "execute_result"
    }
   ],
   "source": [
    "# using Logistic Regresiion algorithm to fit it on the resampled data\n",
    "logreg_model = LogisticRegression(solver='liblinear')\n",
    "fit = logreg_model.fit(X_train_sampled, y_train_sampled)\n",
    "fit_prediction_train_sampled = fit.predict(X_train_sampled)\n",
    "fit_prediction_test_sampled = fit.predict(X_test_sampled)\n",
    "\n",
    "#validation of  Logistic Regresiion\n",
    "print('Accuracy Score for testing set :' +'{}'.format(accuracy_score(fit_prediction_test_sampled, y_test_sampled)))\n",
    "print('Accuracy Score for training set :' +'{}'.format(accuracy_score(fit_prediction_train_sampled, y_train_sampled)))\n",
    "\n",
    "print('\\nF1 score for testing set :'+'{}'.format(f1_score(fit_prediction_test_sampled, y_test_sampled)))\n",
    "print('F1 score for training set:'+'{}'.format(f1_score(fit_prediction_train_sampled, y_train_sampled)))\n",
    "\n",
    "\n",
    "print('\\nROC AUC Score for testing set: ' +'{}'.format(roc_auc_score(y_test_sampled, fit.predict_proba(X_test_sampled)[::,1])))\n",
    "print('ROC AUC Score for train set: ' +'{}'.format(roc_auc_score(y_train_sampled, fit.predict_proba(X_train_sampled)[::,1])))\n",
    "\n",
    "confusion_matrix(y_test_sampled, fit.predict(X_test_sampled))\n"
   ]
  },
  {
   "cell_type": "code",
   "execution_count": 48,
   "id": "f157721d",
   "metadata": {},
   "outputs": [
    {
     "name": "stdout",
     "output_type": "stream",
     "text": [
      "Accuracy Score for testing set :0.7745098039215687\n",
      "Accuracy Score for training set :1.0\n",
      "\n",
      "F1 score for testing set :0.766497461928934\n",
      "F1 score for training set:1.0\n",
      "\n",
      "ROC AUC Score for testing set: 0.712360415864459\n",
      "ROC AUC Score for train set: 0.707489229349743\n"
     ]
    },
    {
     "data": {
      "text/plain": [
       "array([[141,  71],\n",
       "       [ 65, 131]], dtype=int64)"
      ]
     },
     "execution_count": 48,
     "metadata": {},
     "output_type": "execute_result"
    }
   ],
   "source": [
    "# using RandomForestClassifier algorithm to to fit it on the resampled data\n",
    "rf = RandomForestClassifier(n_estimators=100)\n",
    "rf_fit = rf.fit(X_train_sampled, y_train_sampled)\n",
    "rf_prediction_train_sampled = rf_fit.predict(X_train_sampled)\n",
    "rf_prediction_test_sampled= rf_fit.predict(X_test_sampled)\n",
    "\n",
    "#validation of RandomForestClassifier\n",
    "print('Accuracy Score for testing set :' +'{}'.format(accuracy_score(rf_prediction_test_sampled, y_test_sampled)))\n",
    "print('Accuracy Score for training set :' +'{}'.format(accuracy_score(rf_prediction_train_sampled, y_train_sampled)))\n",
    "\n",
    "print('\\nF1 score for testing set :'+'{}'.format(f1_score(rf_prediction_test_sampled, y_test_sampled)))\n",
    "print('F1 score for training set:'+'{}'.format(f1_score(rf_prediction_train_sampled, y_train_sampled)))\n",
    "\n",
    "\n",
    "print('\\nROC AUC Score for testing set: ' +'{}'.format(roc_auc_score(y_test_sampled, fit.predict_proba(X_test_sampled)[::,1])))\n",
    "print('ROC AUC Score for train set: ' +'{}'.format(roc_auc_score(y_train_sampled, fit.predict_proba(X_train_sampled)[::,1])))\n",
    "\n",
    "confusion_matrix(y_test_sampled, fit.predict(X_test_sampled))\n"
   ]
  },
  {
   "cell_type": "code",
   "execution_count": 49,
   "id": "2c247e83",
   "metadata": {},
   "outputs": [
    {
     "name": "stdout",
     "output_type": "stream",
     "text": [
      "Accuracy Score for testing set :0.7794117647058824\n",
      "Accuracy Score for training set :0.7334969994544462\n",
      "\n",
      "F1 score for testing set :0.7169811320754718\n",
      "F1 score for training set:0.6504472271914132\n",
      "\n",
      "ROC AUC Score for testing set: 0.712360415864459\n",
      "ROC AUC Score for train set: 0.707489229349743\n"
     ]
    },
    {
     "data": {
      "text/plain": [
       "array([[141,  71],\n",
       "       [ 65, 131]], dtype=int64)"
      ]
     },
     "execution_count": 49,
     "metadata": {},
     "output_type": "execute_result"
    }
   ],
   "source": [
    "gb = GradientBoostingClassifier(n_estimators=100)\n",
    "gb_fit = gb.fit(X_train, y_train)\n",
    "gb_prediction_train_sampled = gb_fit.predict(X_train_sampled)\n",
    "gb_prediction_test_sampled = gb_fit.predict(X_test_sampled)\n",
    "\n",
    "#validation of GradientBoostingClassifier\n",
    "print('Accuracy Score for testing set :' +'{}'.format(accuracy_score(gb_prediction_test_sampled, y_test_sampled)))\n",
    "print('Accuracy Score for training set :' +'{}'.format(accuracy_score(gb_prediction_train_sampled, y_train_sampled)))\n",
    "\n",
    "print('\\nF1 score for testing set :'+'{}'.format(f1_score(gb_prediction_test_sampled, y_test_sampled)))\n",
    "print('F1 score for training set:'+'{}'.format(f1_score(gb_prediction_train_sampled, y_train_sampled)))\n",
    "\n",
    "\n",
    "print('\\nROC AUC Score for testing set: ' +'{}'.format(roc_auc_score(y_test_sampled, fit.predict_proba(X_test_sampled)[::,1])))\n",
    "print('ROC AUC Score for train set: ' +'{}'.format(roc_auc_score(y_train_sampled, fit.predict_proba(X_train_sampled)[::,1])))\n",
    "\n",
    "confusion_matrix(y_test_sampled, fit.predict(X_test_sampled))\n"
   ]
  },
  {
   "cell_type": "code",
   "execution_count": 50,
   "id": "28746910",
   "metadata": {},
   "outputs": [
    {
     "name": "stdout",
     "output_type": "stream",
     "text": [
      "Accuracy Score for testing set :0.65\n",
      "Accuracy Score for training set :0.662\n",
      "\n",
      "F1 score for testing set :0.45652173913043487\n",
      "F1 score for training set:0.4443074393752569\n",
      "\n",
      "ROC AUC Score for testing set: 0.6640334330349233\n",
      "ROC AUC Score for train set: 0.6655264922870556\n"
     ]
    }
   ],
   "source": [
    "# Use the logistic Regresiion model to predict the training and testing set of whole dataset after \n",
    "fit_prediction_train_after_sampled = fit.predict(X_train)\n",
    "fit_prediction_test_after_sampled = fit.predict(X_test)\n",
    "\n",
    "print('Accuracy Score for testing set :' +'{}'.format(accuracy_score(fit_prediction_test_after_sampled, y_test)))\n",
    "print('Accuracy Score for training set :' +'{}'.format(accuracy_score(fit_prediction_train_after_sampled, y_train)))\n",
    "\n",
    "print('\\nF1 score for testing set :'+'{}'.format(f1_score(fit_prediction_test_after_sampled, y_test)))\n",
    "print('F1 score for training set:'+'{}'.format(f1_score(fit_prediction_train_after_sampled, y_train)))\n",
    "\n",
    "\n",
    "print('\\nROC AUC Score for testing set: ' +'{}'.format(roc_auc_score(y_test, fit_prediction_test_after_sampled)))\n",
    "print('ROC AUC Score for train set: ' +'{}'.format(roc_auc_score(y_train,fit_prediction_train_after_sampled )))\n"
   ]
  },
  {
   "cell_type": "code",
   "execution_count": 51,
   "id": "c369b682",
   "metadata": {},
   "outputs": [
    {
     "name": "stdout",
     "output_type": "stream",
     "text": [
      "Accuracy Score for testing set :0.8635\n",
      "Accuracy Score for training set :0.86625\n",
      "\n",
      "F1 score for testing set :0.7538322813345356\n",
      "F1 score for training set:0.7463252726410622\n",
      "\n",
      "ROC AUC Score for testing set: 0.9055452743977335\n",
      "ROC AUC Score for train set: 0.9079122075447856\n"
     ]
    }
   ],
   "source": [
    "#Random ForestClassifier model to predict the training and testing set of whole dataset \n",
    "rf_fit_prediction_train_after_sampled = rf_fit.predict(X_train)\n",
    "rf_fit_prediction_test_after_sampled = rf_fit.predict(X_test)\n",
    "\n",
    "print('Accuracy Score for testing set :' +'{}'.format(accuracy_score(rf_fit_prediction_test_after_sampled, y_test)))\n",
    "print('Accuracy Score for training set :' +'{}'.format(accuracy_score(rf_fit_prediction_train_after_sampled, y_train)))\n",
    "\n",
    "print('\\nF1 score for testing set :'+'{}'.format(f1_score(rf_fit_prediction_test_after_sampled, y_test)))\n",
    "print('F1 score for training set:'+'{}'.format(f1_score(rf_fit_prediction_train_after_sampled, y_train)))\n",
    "\n",
    "\n",
    "print('\\nROC AUC Score for testing set: ' +'{}'.format(roc_auc_score(y_test, rf_fit_prediction_test_after_sampled)))\n",
    "print('ROC AUC Score for train set: ' +'{}'.format(roc_auc_score(y_train,rf_fit_prediction_train_after_sampled )))"
   ]
  },
  {
   "cell_type": "code",
   "execution_count": 52,
   "id": "329c3ef4",
   "metadata": {},
   "outputs": [
    {
     "name": "stdout",
     "output_type": "stream",
     "text": [
      "Accuracy Score for testing set :0.851\n",
      "Accuracy Score for training set :0.879625\n",
      "\n",
      "F1 score for testing set :0.556547619047619\n",
      "F1 score for training set:0.6345351043643265\n",
      "\n",
      "ROC AUC Score for testing set: 0.7005334456899286\n",
      "ROC AUC Score for train set: 0.7448385967981804\n"
     ]
    }
   ],
   "source": [
    "#GradientBoostingClassifier model to predict the training and testing set of whole dataset \n",
    "\n",
    "gb_fit_prediction_train_after_sampled = gb_fit.predict(X_train)\n",
    "gb_fit_prediction_test_after_sampled = gb_fit.predict(X_test)\n",
    "\n",
    "print('Accuracy Score for testing set :' +'{}'.format(accuracy_score(gb_fit_prediction_test_after_sampled, y_test)))\n",
    "print('Accuracy Score for training set :' +'{}'.format(accuracy_score(gb_fit_prediction_train_after_sampled, y_train)))\n",
    "\n",
    "print('\\nF1 score for testing set :'+'{}'.format(f1_score(gb_fit_prediction_test_after_sampled, y_test)))\n",
    "print('F1 score for training set:'+'{}'.format(f1_score(gb_fit_prediction_train_after_sampled, y_train)))\n",
    "\n",
    "\n",
    "print('\\nROC AUC Score for testing set: ' +'{}'.format(roc_auc_score(y_test, gb_fit_prediction_test_after_sampled)))\n",
    "print('ROC AUC Score for train set: ' +'{}'.format(roc_auc_score(y_train,gb_fit_prediction_train_after_sampled )))\n"
   ]
  },
  {
   "cell_type": "code",
   "execution_count": null,
   "id": "faf82627",
   "metadata": {},
   "outputs": [],
   "source": [
    "#Conclusion\n",
    "\n",
    "##Random forest is giving better results in whole dataset(even in sample dataset) with accuracy score of 0.8635 and 0.8662 in testing set and training set respectively "
   ]
  }
 ],
 "metadata": {
  "kernelspec": {
   "display_name": "Python 3 (ipykernel)",
   "language": "python",
   "name": "python3"
  },
  "language_info": {
   "codemirror_mode": {
    "name": "ipython",
    "version": 3
   },
   "file_extension": ".py",
   "mimetype": "text/x-python",
   "name": "python",
   "nbconvert_exporter": "python",
   "pygments_lexer": "ipython3",
   "version": "3.9.7"
  }
 },
 "nbformat": 4,
 "nbformat_minor": 5
}
